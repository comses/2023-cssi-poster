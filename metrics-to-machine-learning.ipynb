{
 "cells": [
  {
   "cell_type": "markdown",
   "id": "04e3ebca-8b8c-443e-8198-5f462a135593",
   "metadata": {},
   "source": [
    "## CoMSES Net Science Gateway CSSI 2023 PI meeting, Houston TX\n",
    "### From Metrics to Machine Learning\n",
    "\n",
    "Like many other groups in academia, research software engineering and industry, CoMSES.Net has struggled to find qualified full-time research software engineers to help us continue to develop supporting cyberinfrastructure for our community of researchers interested in studying the complex dynamics of social and ecological systems through computational models and simulation.\n",
    "\n",
    "In early 2023 we decided to invest in building a student developer pipeline, partially inspired by programs like the University of Utah's [Student University Development Opportunity program (sudo.utah.edu)](https://sudo.utah.edu). Hiring and training undergraduate students helps us achieve our project goals and advances our University's mission to strengthen the interactive network of teaching, learning, and discovery for our student developers. In addition it ensures that our project _stays honest_ by exercising these following core components, critical to a software project's ability to evolve, innovate, and provide value to our community across a rapidly changing technological and scientific landscape.\n",
    "\n",
    "1. Developer onboarding documentation - how easy is it for our students to download, install and create a development environment for our science gateway with an edit-build-test cycle that encourages experimentation and rapid prototyping?\n",
    "2. Mentorship and training - how do we help our students learn how to contribute to a real-world project with practical concerns on user security, maintainability, codebase style, while maintaining clean code contribution workflows on Git and GitHub?\n",
    "3. Establishing baseline competencies in the technologies, languages, and software frameworks we use\n",
    "\n",
    "Four undergraduate students joined us in January 2023 and were tasked developing a [metrics page](https://comses.net/about/metrics). Along the way we revisited issues of data quality that all Science Gateways face, as developing useful usage metrics and indicators depends on _clean data_. Every public science gateway that supports user entered metadata will have metadata curation issues which can benefit from data science and machine learning support. In our case, this means record linkage and deduplication of user-entered metadata (e.g., tags and their [resultant folksonomies](https://www.sciencedirect.com/topics/computer-science/folksonomies)), as well as detection and warning systems for spam and malicious actors.\n",
    "\n",
    "Here's what we've been doing!"
   ]
  },
  {
   "cell_type": "code",
   "execution_count": null,
   "id": "dbcd0f6b-ad86-4b41-b99d-e5c6a7adef7b",
   "metadata": {},
   "outputs": [],
   "source": []
  }
 ],
 "metadata": {
  "kernelspec": {
   "display_name": "Python 3 (ipykernel)",
   "language": "python",
   "name": "python3"
  },
  "language_info": {
   "codemirror_mode": {
    "name": "ipython",
    "version": 3
   },
   "file_extension": ".py",
   "mimetype": "text/x-python",
   "name": "python",
   "nbconvert_exporter": "python",
   "pygments_lexer": "ipython3",
   "version": "3.10.12"
  }
 },
 "nbformat": 4,
 "nbformat_minor": 5
}
